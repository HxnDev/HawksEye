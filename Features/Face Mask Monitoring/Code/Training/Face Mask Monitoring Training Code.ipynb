{
  "nbformat": 4,
  "nbformat_minor": 0,
  "metadata": {
    "accelerator": "GPU",
    "colab": {
      "name": "Face Mask Monitoring Monitoring Training Code.ipynb",
      "provenance": [],
      "collapsed_sections": []
    },
    "kernelspec": {
      "display_name": "Python 3",
      "name": "python3"
    },
    "language_info": {
      "name": "python"
    }
  },
  "cells": [
    {
      "cell_type": "markdown",
      "metadata": {
        "id": "39i97SWUtsl0"
      },
      "source": [
        "# **Face Mask Monitoring Training Code Starts Here!** "
      ]
    },
    {
      "cell_type": "markdown",
      "metadata": {
        "id": "Y3oRFX5Htg1M"
      },
      "source": [
        "### **1: Mounting Google Drive**"
      ]
    },
    {
      "cell_type": "code",
      "metadata": {
        "id": "cy_NQw2ZRAeH"
      },
      "source": [
        "from google.colab import drive\n",
        "drive.mount('/content/gdrive')\n",
        "%cd '/content/gdrive/MyDrive'\n",
        "!pwd # should say '/content/gdrive/MyDrive'"
      ],
      "execution_count": null,
      "outputs": []
    },
    {
      "cell_type": "markdown",
      "metadata": {
        "id": "zbxknugmuEQN"
      },
      "source": [
        "### **2: Clone YOLOv5 Repository from official GitHub account**"
      ]
    },
    {
      "cell_type": "code",
      "metadata": {
        "id": "Ie5uLDH4uzAp"
      },
      "source": [
        "!git clone https://github.com/ultralytics/yolov5  # clone repo"
      ],
      "execution_count": null,
      "outputs": []
    },
    {
      "cell_type": "markdown",
      "metadata": {
        "id": "lEF_774HuSEd"
      },
      "source": [
        "### **3: Install All Required Dependencies**"
      ]
    },
    {
      "cell_type": "code",
      "metadata": {
        "id": "mO-arl-fQ3Ke"
      },
      "source": [
        "!pip install -U -r yolov5/requirements.txt      # install dependencies (ignore errors)"
      ],
      "execution_count": null,
      "outputs": []
    },
    {
      "cell_type": "markdown",
      "metadata": {
        "id": "zCbBp3JVue80"
      },
      "source": [
        "### **4: Go Into The Cloned Folder**"
      ]
    },
    {
      "cell_type": "code",
      "metadata": {
        "id": "D3rP1wWhT_wA"
      },
      "source": [
        "%cd /content/gdrive/MyDrive/yolov5"
      ],
      "execution_count": null,
      "outputs": []
    },
    {
      "cell_type": "markdown",
      "metadata": {
        "id": "n_djblGvuqks"
      },
      "source": [
        "### **5: Setting GPU As Our Default Training Device**"
      ]
    },
    {
      "cell_type": "code",
      "metadata": {
        "id": "zF4QQHdTQ3M_"
      },
      "source": [
        "import torch\n",
        "from IPython.display import Image, clear_output  # to display images\n",
        "\n",
        "print('Setup complete. Using torch %s %s' % (torch.__version__, torch.cuda.get_device_properties(0) if torch.cuda.is_available() else 'CPU'))\n",
        "%cd /content"
      ],
      "execution_count": null,
      "outputs": []
    },
    {
      "cell_type": "markdown",
      "metadata": {
        "id": "dY7w8Q5ru8dc"
      },
      "source": [
        "### **6: Unzipping Our Dataset Into Test, Train and Validation Accordingly**"
      ]
    },
    {
      "cell_type": "code",
      "metadata": {
        "id": "QshTuzQ3Q3W-"
      },
      "source": [
        "!curl -L \"https://app.roboflow.com/ds/CWwFUfO9OA?key=g5mpWNuJ14\" > roboflow.zip; unzip roboflow.zip; rm roboflow.zip"
      ],
      "execution_count": null,
      "outputs": []
    },
    {
      "cell_type": "markdown",
      "metadata": {
        "id": "dfd_mhRNvGBZ"
      },
      "source": [
        "### **7: We Now Need To Edit The \"data.yaml\" File And Write Absolute Paths For Our Datasets**\n",
        "\n",
        "We Need to Make The Following 4 Changes:\n",
        "\n",
        "\n",
        "1.   train = /content/train/images\n",
        "2.   val = /content/valid/images\n",
        "3.   nc = 2\n",
        "4.   names: ['Mask', 'No Mask']"
      ]
    },
    {
      "cell_type": "code",
      "metadata": {
        "id": "hA70JHe8Q3Ze"
      },
      "source": [
        "# this is the YAML file Roboflow wrote for us that we're loading into this notebook with our data\n",
        "%cat data.yaml"
      ],
      "execution_count": null,
      "outputs": []
    },
    {
      "cell_type": "markdown",
      "metadata": {
        "id": "cuwbIVvBvuZc"
      },
      "source": [
        "### **8: Defining Number of Classes As Given In The Updated \"data.yaml\" File**"
      ]
    },
    {
      "cell_type": "code",
      "metadata": {
        "id": "DeF2giYgQ3de"
      },
      "source": [
        "import yaml\n",
        "with open(\"data.yaml\", 'r') as stream:\n",
        "    num_classes = str(yaml.safe_load(stream)['nc'])"
      ],
      "execution_count": null,
      "outputs": []
    },
    {
      "cell_type": "markdown",
      "metadata": {
        "id": "ARfUoPXSv801"
      },
      "source": [
        "### **9: We Will Start Our Training By Using Pre-Trained Weights (yolov5s) And Then Further Training It On Our Dataset**"
      ]
    },
    {
      "cell_type": "code",
      "metadata": {
        "id": "-v3c13nIQ3fu"
      },
      "source": [
        "%cat /content/gdrive/MyDrive/yolov5/models/yolov5s.yaml"
      ],
      "execution_count": null,
      "outputs": []
    },
    {
      "cell_type": "markdown",
      "metadata": {
        "id": "onXenHYiwPRt"
      },
      "source": [
        "### **10: Some Customizations To Edit Variables**"
      ]
    },
    {
      "cell_type": "code",
      "metadata": {
        "id": "OsJPyua2Q3hu"
      },
      "source": [
        "from IPython.core.magic import register_line_cell_magic\n",
        "\n",
        "@register_line_cell_magic\n",
        "def writetemplate(line, cell):\n",
        "    with open(line, 'w') as f:\n",
        "        f.write(cell.format(**globals()))"
      ],
      "execution_count": null,
      "outputs": []
    },
    {
      "cell_type": "code",
      "metadata": {
        "id": "DOJpj9qLW7q5"
      },
      "source": [
        "%%writetemplate /content/gdrive/MyDrive/yolov5/models/custom_yolov5s.yaml\n",
        "\n",
        "# parameters\n",
        "nc: {num_classes}  # number of classes\n",
        "depth_multiple: 0.33  # model depth multiple\n",
        "width_multiple: 0.50  # layer channel multiple\n",
        "\n",
        "# anchors\n",
        "anchors:\n",
        "  - [10,13, 16,30, 33,23]  # P3/8\n",
        "  - [30,61, 62,45, 59,119]  # P4/16\n",
        "  - [116,90, 156,198, 373,326]  # P5/32\n",
        "\n",
        "# YOLOv5 backbone\n",
        "backbone:\n",
        "  # [from, number, module, args]\n",
        "  [[-1, 1, Focus, [64, 3]],  # 0-P1/2\n",
        "   [-1, 1, Conv, [128, 3, 2]],  # 1-P2/4\n",
        "   [-1, 3, BottleneckCSP, [128]],\n",
        "   [-1, 1, Conv, [256, 3, 2]],  # 3-P3/8\n",
        "   [-1, 9, BottleneckCSP, [256]],\n",
        "   [-1, 1, Conv, [512, 3, 2]],  # 5-P4/16\n",
        "   [-1, 9, BottleneckCSP, [512]],\n",
        "   [-1, 1, Conv, [1024, 3, 2]],  # 7-P5/32\n",
        "   [-1, 1, SPP, [1024, [5, 9, 13]]],\n",
        "   [-1, 3, BottleneckCSP, [1024, False]],  # 9\n",
        "  ]\n",
        "\n",
        "# YOLOv5 head\n",
        "head:\n",
        "  [[-1, 1, Conv, [512, 1, 1]],\n",
        "   [-1, 1, nn.Upsample, [None, 2, 'nearest']],\n",
        "   [[-1, 6], 1, Concat, [1]],  # cat backbone P4\n",
        "   [-1, 3, BottleneckCSP, [512, False]],  # 13\n",
        "\n",
        "   [-1, 1, Conv, [256, 1, 1]],\n",
        "   [-1, 1, nn.Upsample, [None, 2, 'nearest']],\n",
        "   [[-1, 4], 1, Concat, [1]],  # cat backbone P3\n",
        "   [-1, 3, BottleneckCSP, [256, False]],  # 17 (P3/8-small)\n",
        "\n",
        "   [-1, 1, Conv, [256, 3, 2]],\n",
        "   [[-1, 14], 1, Concat, [1]],  # cat head P4\n",
        "   [-1, 3, BottleneckCSP, [512, False]],  # 20 (P4/16-medium)\n",
        "\n",
        "   [-1, 1, Conv, [512, 3, 2]],\n",
        "   [[-1, 10], 1, Concat, [1]],  # cat head P5\n",
        "   [-1, 3, BottleneckCSP, [1024, False]],  # 23 (P5/32-large)\n",
        "\n",
        "   [[17, 20, 23], 1, Detect, [nc, anchors]],  # Detect(P3, P4, P5)\n",
        "  ]"
      ],
      "execution_count": null,
      "outputs": []
    },
    {
      "cell_type": "markdown",
      "metadata": {
        "id": "EXSfWC5ewVfj"
      },
      "source": [
        "### **11: Installing \"wandb\" To See Real-Time Analysis Of Our Model During The Training**"
      ]
    },
    {
      "cell_type": "code",
      "metadata": {
        "id": "lwbUuMQrqLco"
      },
      "source": [
        "!pip install wandb"
      ],
      "execution_count": null,
      "outputs": []
    },
    {
      "cell_type": "markdown",
      "metadata": {
        "id": "l5XlC1f0wd3D"
      },
      "source": [
        "### **12: Training Our Model**"
      ]
    },
    {
      "cell_type": "code",
      "metadata": {
        "id": "sTOrigzfW7tY"
      },
      "source": [
        "# train yolov5s on custom data for 100 epochs\n",
        "# time its performance\n",
        "%%time\n",
        "%cd /content/gdrive/MyDrive/yolov5/\n",
        "!python train.py --img 640 --batch 64 --epochs 15 --data '/content/data.yaml' --cfg ./models/custom_yolov5s.yaml --weights yolov5s.pt --name yolov5s_final  --cache"
      ],
      "execution_count": null,
      "outputs": []
    }
  ]
}